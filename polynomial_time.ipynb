{
 "cells": [
  {
   "attachments": {},
   "cell_type": "markdown",
   "id": "5838ad78-d04f-4945-bb16-0511e998155c",
   "metadata": {},
   "source": [
    "# The Polynomial Time Complexity Class (P)\n",
    "***"
   ]
  },
  {
   "cell_type": "code",
   "execution_count": 10,
   "id": "9f7e0ea7",
   "metadata": {},
   "outputs": [],
   "source": [
    "try: import matplotlib.pyplot as plt\n",
    "except:\n",
    "    !pip install matplotlib\n",
    "    import matplotlib.pyplot as plt\n",
    "\n",
    "try: import numpy as np\n",
    "except:\n",
    "    !pip install numpy\n",
    "    import numpy as np"
   ]
  },
  {
   "cell_type": "markdown",
   "id": "c6a88ecf",
   "metadata": {},
   "source": [
    "# 1. Introduction"
   ]
  },
  {
   "attachments": {},
   "cell_type": "markdown",
   "id": "87e06dbe",
   "metadata": {},
   "source": [
    "<!-- Hand written SVG -->\n",
    "<center>\n",
    "    <svg height=\"200px\" width=\"400px\">\n",
    "        <ellipse cx=\"200\" cy=\"100\" rx=\"200\" ry=\"100\" style=\"fill: lightgrey; stroke: black; stroke-width:2\" />\n",
    "        <text x=\"200\" y=\"100\" text-anchor=\"middle\" fill=\"black\" font-size=\"30\">P</text>\n",
    "        <!-- P problems -->\n",
    "        <text x=\"50\" y=\"100\" text-anchor=\"middle\" fill=\"black\" font-size=\"15\">Sorting</text>\n",
    "        <text x=\"200\" y=\"175\" text-anchor=\"middle\" fill=\"black\" font-size=\"15\">Multiplication</text>\n",
    "        <text x=\"200\" y=\"25\" text-anchor=\"middle\" fill=\"black\" font-size=\"15\">Greatest Common Divisor</text>\n",
    "        <text x=\"350\" y=\"100\" text-anchor=\"middle\" fill=\"black\" font-size=\"15\">Game of Life</text>\n",
    "    </svg> \n",
    "</center>"
   ]
  },
  {
   "attachments": {},
   "cell_type": "markdown",
   "id": "de20a98b",
   "metadata": {},
   "source": [
    "Polynomial time also know as $P$ are a class of computation problems that can be solved in polynomial time. [0]\n",
    "\n",
    "Polynomial time class contains all decision problems that can be solved in polynomial time on a deterministic Turing machine. [0]\n",
    "\n",
    "Decision problem, meaning that the problem can be answered with a yes or no answer.\n",
    "\n",
    "Deterministic Turing machine, meaning that the Turing machines output is predetermined by its input, will always have the same output for the same input."
   ]
  },
  {
   "attachments": {},
   "cell_type": "markdown",
   "id": "b2518785",
   "metadata": {},
   "source": [
    "### 1.1 Formal Language\n",
    "\n",
    "$$\n",
    "A^* =\n",
    "\\bigcup_{i=0}^\\infty A^i\n",
    "$$\n",
    "\n",
    "https://github.com/ianmcloughlin/structures-and-operations/blob/main/structures-and-operations.pdf"
   ]
  },
  {
   "cell_type": "code",
   "execution_count": 11,
   "id": "87545276",
   "metadata": {},
   "outputs": [
    {
     "name": "stdout",
     "output_type": "stream",
     "text": [
      "A:  {0, 1}\n",
      "A^1: 0, 1\n",
      "A^2: 00, 01, 10, 11\n",
      "A^3: 000, 001, 010, 011, 100, 101, 110, 111\n",
      "A^4: 0000, 0001, 0010, 0011, 0100, 0101, 0110, 0111, 1000, 1001, 1010, 1011, 1100, 1101, 1110, 1111\n"
     ]
    }
   ],
   "source": [
    "import itertools\n",
    "\n",
    "print(\"A: \", A := {0, 1})\n",
    "\n",
    "def possible_strings(A, k):\n",
    "    return [*itertools.product(A, repeat=k)]\n",
    "\n",
    "for i in range(1, 4 + 1):\n",
    "    str_version = \", \".join([''.join([str(j) for j in i]) for i in possible_strings(A, i)])\n",
    "    print(f\"A^{i}:\", str_version)"
   ]
  },
  {
   "attachments": {},
   "cell_type": "markdown",
   "id": "0eb09be1",
   "metadata": {},
   "source": [
    "***\n",
    "### 1.2. Polynomials\n",
    "\n",
    "An example of a polynomial is: $3x^2 + 4x + 2$.\n",
    "\n",
    "The polymonial is usually ordered by the exponent value of each term. The term that has the highest power is the first term. In the above example, the last two terms are actually $4x^1$ and $2x^0$.\n",
    "\n",
    "The degree of a polynomial is the highest exponent of the terms. As seen in the example above it is $2$. [1]\n",
    "\n",
    "#### 1.2.1. Term\n",
    "\n",
    "<span style=\"color: red\">$10$</span>\n",
    "<span style=\"color: green\">$x$</span>\n",
    "<span style=\"color: blue\">$^9$</span>\n",
    "\n",
    "The properties of a term are:\n",
    "- The <span style=\"color: red\">constant</span> is the number that is multiplied by the variable.\n",
    "- The <span style=\"color: green\">variable</span> is the letter part that is multiplied by the constant (this is usually $x$).\n",
    "- The <span style=\"color: blue\">exponent</span> is the number is used to raise the variable to a power. [1]"
   ]
  },
  {
   "attachments": {},
   "cell_type": "markdown",
   "id": "3574d62d",
   "metadata": {},
   "source": [
    "\n"
   ]
  },
  {
   "attachments": {},
   "cell_type": "markdown",
   "id": "bb06fe3e",
   "metadata": {},
   "source": [
    "***\n",
    "## 2. Properties of Problems in P"
   ]
  },
  {
   "attachments": {},
   "cell_type": "markdown",
   "id": "58d2ba9d",
   "metadata": {},
   "source": [
    "***\n",
    "P vs NP\n",
    "\n",
    "P: Polynomial time\n",
    "NP: Non-deterministic polynomial time\n",
    "\n",
    "P vs NP refers to the age old debate of whether P is equal to NP or not. [2]"
   ]
  },
  {
   "attachments": {},
   "cell_type": "markdown",
   "id": "625c33e5",
   "metadata": {},
   "source": [
    "## 3. Problems in P"
   ]
  },
  {
   "cell_type": "code",
   "execution_count": null,
   "id": "694a9315",
   "metadata": {},
   "outputs": [],
   "source": []
  },
  {
   "attachments": {},
   "cell_type": "markdown",
   "id": "a639ff66",
   "metadata": {},
   "source": [
    "***\n",
    "## 4. Other Complexity Classes"
   ]
  },
  {
   "cell_type": "markdown",
   "id": "b9c4ae47",
   "metadata": {},
   "source": [
    "***\n",
    "## 5. Conclusion"
   ]
  },
  {
   "attachments": {},
   "cell_type": "markdown",
   "id": "0068d910",
   "metadata": {},
   "source": [
    "***\n",
    "## References\n",
    "[0] [https://en.wikipedia.org/wiki/P_(complexity)](https://en.wikipedia.org/wiki/P_(complexity))<br>\n",
    "[1] [https://www.mathsisfun.com/algebra/polynomials.html](https://www.mathsisfun.com/algebra/polynomials.html)<br>\n",
    "[2] [https://news.mit.edu/2009/explainer-pnp](https://news.mit.edu/2009/explainer-pnp)<br>\n",
    "\n",
    "https://en.wikipedia.org/wiki/P-complete\n"
   ]
  },
  {
   "attachments": {},
   "cell_type": "markdown",
   "id": "fdbcf54c",
   "metadata": {},
   "source": [
    "https://brilliant.org/wiki/complexity-classes/\n",
    "\n",
    "https://github.com/ianmcloughlin/structures-and-operations/blob/main/structures-and-operations.pdf"
   ]
  }
 ],
 "metadata": {
  "kernelspec": {
   "display_name": "Python 3",
   "language": "python",
   "name": "python3"
  },
  "language_info": {
   "codemirror_mode": {
    "name": "ipython",
    "version": 3
   },
   "file_extension": ".py",
   "mimetype": "text/x-python",
   "name": "python",
   "nbconvert_exporter": "python",
   "pygments_lexer": "ipython3",
   "version": "3.10.9"
  },
  "vscode": {
   "interpreter": {
    "hash": "4ddf6bbfb6cda5827b67d82fee18ec03a3a02e526223c762c547561fc43c0ce8"
   }
  }
 },
 "nbformat": 4,
 "nbformat_minor": 5
}
