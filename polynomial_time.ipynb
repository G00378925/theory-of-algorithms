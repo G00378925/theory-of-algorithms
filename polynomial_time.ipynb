{
 "cells": [
  {
   "attachments": {},
   "cell_type": "markdown",
   "id": "5838ad78-d04f-4945-bb16-0511e998155c",
   "metadata": {},
   "source": [
    "# The Polynomial Time Complexity Class ($P$)\n",
    "***"
   ]
  },
  {
   "cell_type": "code",
   "execution_count": 174,
   "id": "9f7e0ea7",
   "metadata": {},
   "outputs": [],
   "source": [
    "try: import matplotlib.pyplot as plt\n",
    "except:\n",
    "    !pip install matplotlib\n",
    "    import matplotlib.pyplot as plt\n",
    "\n",
    "try: import numpy as np\n",
    "except:\n",
    "    !pip install numpy\n",
    "    import numpy as np"
   ]
  },
  {
   "cell_type": "code",
   "execution_count": 175,
   "id": "575ffed7",
   "metadata": {},
   "outputs": [],
   "source": [
    "# https://arxiv.org/pdf/1308.2891.pdf"
   ]
  },
  {
   "attachments": {},
   "cell_type": "markdown",
   "id": "c6a88ecf",
   "metadata": {},
   "source": [
    "## 1. Introduction"
   ]
  },
  {
   "attachments": {},
   "cell_type": "markdown",
   "id": "87e06dbe",
   "metadata": {},
   "source": [
    "<!-- Hand written SVG -->\n",
    "<center>\n",
    "    <svg height=\"200px\" width=\"400px\">\n",
    "        <ellipse cx=\"200\" cy=\"100\" rx=\"200\" ry=\"100\" style=\"fill: lightgrey; stroke: black; stroke-width:2\" />\n",
    "        <text x=\"200\" y=\"100\" text-anchor=\"middle\" fill=\"black\" font-size=\"30\">P</text>\n",
    "        <!-- P problems -->\n",
    "        <text x=\"50\" y=\"100\" text-anchor=\"middle\" fill=\"black\" font-size=\"15\">Sort Validation</text>\n",
    "        <text x=\"200\" y=\"175\" text-anchor=\"middle\" fill=\"black\" font-size=\"15\">Palindromes</text>\n",
    "        <text x=\"200\" y=\"25\" text-anchor=\"middle\" fill=\"black\" font-size=\"15\">Greatest Common Divisor</text>\n",
    "        <text x=\"350\" y=\"100\" text-anchor=\"middle\" fill=\"black\" font-size=\"15\">Primality</text>\n",
    "    </svg> \n",
    "</center>"
   ]
  },
  {
   "cell_type": "code",
   "execution_count": 176,
   "id": "74d718f8",
   "metadata": {},
   "outputs": [],
   "source": [
    "# http://www.cs.ecu.edu/karl/6420/spr16/Notes/P/examples.html"
   ]
  },
  {
   "attachments": {},
   "cell_type": "markdown",
   "id": "de20a98b",
   "metadata": {},
   "source": [
    "$P$ is a class of decision problems that can be solved in deterministic polynomial time on a deterministic Turing machine, this class is sometimes also referred to as $PTIME$. [0]\n",
    "\n",
    "A computational problem is considered in $P$, if there is an algorithm that can solve it in polynomial time for all possible inputs, there is no restriction on the amount of space it requires.\n",
    "Worst-case scenarios for time are bound by a polynomial function determined by the input size.\n",
    "Although it is common for algorithms in $P$ to be implemented to require polynomial space, there is a correlation between time and space complexity, as time is the amount of executed instructions, and space is the amount of memory being used."
   ]
  },
  {
   "attachments": {},
   "cell_type": "markdown",
   "id": "8537cc29",
   "metadata": {},
   "source": [
    "For algorithms in $P$ the run-time is known ahead of time, and this polynomial is pre-determined meaning it can't dynamically change based on the input. An example would be bubble sort, implemented with two for loops, with a time complexity of O($n^2$), the exponent is pre-determined and will always be $2$, and will not increase."
   ]
  },
  {
   "attachments": {},
   "cell_type": "markdown",
   "id": "e3febcd1",
   "metadata": {},
   "source": [
    "There also exists a class called $PSPACE$ which includes algorithms that run in polynomial space but not necessarily in polynomial time."
   ]
  },
  {
   "attachments": {},
   "cell_type": "markdown",
   "id": "720eedb3",
   "metadata": {},
   "source": [
    "Decision problems are the set of problems that can be answered with the boolean **yes** or **no** answer.\n",
    "\n",
    "Now although algorithms such as sorting don't directly return a **yes** or **no** answer, it can be used to verify if an array is sorted and that is a boolean, so when used in verification they can be considered a decision problem."
   ]
  },
  {
   "cell_type": "code",
   "execution_count": 177,
   "id": "4edcb20a",
   "metadata": {},
   "outputs": [],
   "source": [
    "def is_sorted(arr):\n",
    "    # Worst case sorting algorithm is O(n^2) bubble sort\n",
    "    return sorted(arr) == arr # This is O(1)"
   ]
  },
  {
   "attachments": {},
   "cell_type": "markdown",
   "id": "8ca3e981",
   "metadata": {},
   "source": [
    "Deterministic Turing machine, meaning that the Turing machines output is predetermined by its input, will always have the same output for the same input. The alternative being probablism which can be found in quantum computers. I will explore this topic in more detail below.\n",
    "\n",
    "A polynomial is usually better than a best-case exponential as it approaches $\\infty$.\n",
    "It can appear that a polynomial is initially worse than a best-case exponential, but as the input sizes increase, the polynomial will always be better, as evident in the plot below."
   ]
  },
  {
   "cell_type": "code",
   "execution_count": 178,
   "id": "6b04eb69",
   "metadata": {},
   "outputs": [
    {
     "data": {
      "image/png": "[encoded data removed]",
      "text/plain": [
       "<Figure size 640x480 with 1 Axes>"
      ]
     },
     "metadata": {},
     "output_type": "display_data"
    }
   ],
   "source": [
    "x = np.linspace(0, 15, 100)\n",
    "\n",
    "plt.plot(x, x ** 3, label='$x^3$')\n",
    "plt.plot(x, 2 ** x, label='$2^x$')\n",
    "\n",
    "plt.legend()\n",
    "plt.ylim([0, 1500]) # Make the overtake obvious\n",
    "plt.show()"
   ]
  },
  {
   "attachments": {},
   "cell_type": "markdown",
   "id": "30e9f437",
   "metadata": {},
   "source": [
    "Examples of Big O's that are in $P$:<br>\n",
    "O($1$), O($n$), O($log$ $n$), O($n$ $log$ $n$), O($n^k$)*\n",
    "\n",
    "Big O's that are not in $P$ ($NP$):<br>\n",
    "O($n^2$), O($n^m$), O($n!$)\n",
    "\n",
    "*$k$ being constant"
   ]
  },
  {
   "attachments": {},
   "cell_type": "markdown",
   "id": "b2518785",
   "metadata": {},
   "source": [
    "## 2. Formal Language\n",
    "\n",
    "$$\n",
    "A^* =\n",
    "\\bigcup_{i=0}^\\infty A^i\n",
    "$$\n",
    "\n",
    "https://github.com/ianmcloughlin/structures-and-operations/blob/main/structures-and-operations.pdf"
   ]
  },
  {
   "cell_type": "code",
   "execution_count": 179,
   "id": "87545276",
   "metadata": {},
   "outputs": [
    {
     "name": "stdout",
     "output_type": "stream",
     "text": [
      "A:  {0, 1}\n",
      "A^1: 0, 1\n",
      "A^2: 00, 01, 10, 11\n",
      "A^3: 000, 001, 010, 011, 100, 101, 110, 111\n",
      "A^4: 0000, 0001, 0010, 0011, 0100, 0101, 0110, 0111, 1000, 1001, 1010, 1011, 1100, 1101, 1110, 1111\n"
     ]
    }
   ],
   "source": [
    "import itertools\n",
    "\n",
    "print(\"A: \", A := {0, 1})\n",
    "\n",
    "def possible_strings(A, k):\n",
    "    return [*itertools.product(A, repeat=k)]\n",
    "\n",
    "for i in range(1, 4 + 1):\n",
    "    str_version = \", \".join([''.join([str(j) for j in i]) for i in possible_strings(A, i)])\n",
    "    print(f\"A^{i}:\", str_version)"
   ]
  },
  {
   "attachments": {},
   "cell_type": "markdown",
   "id": "0eb09be1",
   "metadata": {},
   "source": [
    "***\n",
    "## 3. Polynomials\n",
    "\n",
    "An example of a polynomial is: $3x^2 + 4x + 2$.\n",
    "\n",
    "The polymonial is usually ordered by the exponent value of each term. The term that has the highest power is the first term. In the above example, the last two terms are actually $4x^1$ and $2x^0$.\n",
    "\n",
    "The degree of a polynomial is the highest exponent of the terms. As seen in the example above it is $2$. [1]\n",
    "\n",
    "### 3.1 Term\n",
    "\n",
    "<span style=\"color: red\">10</span>\n",
    "<span style=\"color: green\">x</span>\n",
    "<span style=\"color: blue\">^9</span>\n",
    "\n",
    "The properties of a term are:\n",
    "- The <span style=\"color: red\">constant</span> is the number that is multiplied by the variable.\n",
    "- The <span style=\"color: green\">variable</span> is the letter part that is multiplied by the constant (this is usually $x$).\n",
    "- The <span style=\"color: blue\">exponent</span> is the number is used to raise the variable to a power. [1]"
   ]
  },
  {
   "attachments": {},
   "cell_type": "markdown",
   "id": "49f0c9c8",
   "metadata": {},
   "source": [
    "***\n",
    "## 4. Deterministic Turing machine"
   ]
  },
  {
   "cell_type": "code",
   "execution_count": 180,
   "id": "a8bb514b",
   "metadata": {},
   "outputs": [],
   "source": [
    "import collections\n",
    "\n",
    "B, L, R = None, 'L', 'R'\n",
    "\n",
    "def turing_machine(tape, initial_state, state_table, state_count=None):\n",
    "    tape = collections.defaultdict(lambda: B, {k: v for k, v in enumerate(tape)})\n",
    "    tape[len(tape.keys())] = B\n",
    "    state, operations_count, head = initial_state, 0, 0\n",
    "\n",
    "    if state_count is not None:\n",
    "        state_count[state] += 1\n",
    "\n",
    "    # Run until we are out of tape.\n",
    "    while tape[head] != B:\n",
    "        tape[head], direction, state = state_table[(state, tape[head])]\n",
    "        operations_count += 1\n",
    "        head += 1 if direction == R else -1\n",
    "\n",
    "    return state, operations_count, tape"
   ]
  },
  {
   "cell_type": "code",
   "execution_count": 181,
   "id": "bb4c1011",
   "metadata": {},
   "outputs": [],
   "source": [
    "_0, _1, Y, N = '0', '1', 'Y', 'N'\n",
    "\n",
    "even_number_state_table = (\n",
    "    # (state, read, write, move, next_state)\n",
    "    (Y, _0, _0, R, Y),\n",
    "    (Y, _1, _1, R, N),\n",
    "    (Y,  B,  B, R, Y),\n",
    "    (N, _0, _0, R, Y),\n",
    "    (N, _1, _1, R, N),\n",
    "    (N,  B,  B, R, N)\n",
    ")\n",
    "# The table above looks nice, but O(1) is better.\n",
    "even_number_state_table = {state[:2]: state[2:] for state in even_number_state_table}\n",
    "\n",
    "def is_even(number):\n",
    "    tape = bin(number)[2:] # Remove the 0b prefix.\n",
    "    return turing_machine(tape, N, even_number_state_table)[0] == Y"
   ]
  },
  {
   "cell_type": "code",
   "execution_count": 182,
   "id": "8135dbb0",
   "metadata": {},
   "outputs": [
    {
     "name": "stdout",
     "output_type": "stream",
     "text": [
      "531 is even: False\n",
      "453 is even: False\n",
      "125 is even: False\n",
      "769 is even: False\n",
      "990 is even: True\n"
     ]
    }
   ],
   "source": [
    "import random\n",
    "\n",
    "# Test is_even\n",
    "print(\"\\n\".join([*map(lambda num: f\"{num} is even: {is_even(num)}\",\n",
    "    [random.randint(0, 1000) for i in range(5)])]))"
   ]
  },
  {
   "cell_type": "code",
   "execution_count": 183,
   "id": "2bead11a",
   "metadata": {},
   "outputs": [
    {
     "data": {
      "image/png": "[encoded data removed]",
      "text/plain": [
       "<Figure size 640x480 with 1 Axes>"
      ]
     },
     "metadata": {},
     "output_type": "display_data"
    }
   ],
   "source": [
    "operation_count_list = [] # List of operation counts for each input size.\n",
    "for i in range(0, 50):\n",
    "    # Generate a random binary string.\n",
    "    random_bin_string  = ''.join([str(random.randint(0, 1)) for _ in range(i)])\n",
    "    operation_count_list += [turing_machine(random_bin_string, N, even_number_state_table)[1]]\n",
    "\n",
    "plt.plot(operation_count_list)\n",
    "plt.title(\"even_number_state_table has O(n) time complexity\")\n",
    "plt.xlabel(\"Input size\")\n",
    "plt.ylabel(\"Operation count\")\n",
    "plt.show()"
   ]
  },
  {
   "attachments": {},
   "cell_type": "markdown",
   "id": "bb06fe3e",
   "metadata": {},
   "source": [
    "***\n",
    "## 5. Determining if a problem is in $P$\n",
    "\n",
    "For this example I will be using a decision problem that checks if one or more $0$'s are left to the middle of a string and the same amount the same amount to the right. This algorithm hasn't been given a name so I will refer to it as `zero_middle_one`.\n",
    "\n",
    "This string is invalid `0010`, due to there being a 0 after the middle position of the string.\n",
    "And this one `00011` is also invalid, because there isn't the same amount of $0$'s as $1$'s.\n",
    "\n",
    "The code below will produce some acceptable strings."
   ]
  },
  {
   "cell_type": "code",
   "execution_count": 184,
   "id": "8d1b0ab5",
   "metadata": {},
   "outputs": [
    {
     "name": "stdout",
     "output_type": "stream",
     "text": [
      "\"\"\n",
      "\"01\"\n",
      "\"0011\"\n",
      "\"000111\"\n",
      "\"00001111\"\n"
     ]
    }
   ],
   "source": [
    "acceptable_inputs = [] # Acceptable inputs.\n",
    "rejectable_inputs = [\"0010\", \"00011\"] # Rejectable inputs.\n",
    "\n",
    "for i in range(0, 4 + 1):\n",
    "    acceptable_inputs += [f\"{'0' * i}{'1' * i}\"]\n",
    "    print(f\"\\\"{acceptable_inputs[-1]}\\\"\")"
   ]
  },
  {
   "attachments": {},
   "cell_type": "markdown",
   "id": "7d4217e1",
   "metadata": {},
   "source": [
    "Here is a python implementation of the algorithm:"
   ]
  },
  {
   "cell_type": "code",
   "execution_count": 185,
   "id": "fbbfbe56",
   "metadata": {},
   "outputs": [],
   "source": [
    "def zero_middle_one(input_string):\n",
    "    # Reject strings that are of odd length.\n",
    "    if len(input_string) % 2 != 0: return False\n",
    "\n",
    "    # Find the middle position.\n",
    "    middle_position = len(input_string) // 2\n",
    "\n",
    "    # Isolate the sides.\n",
    "    zeros = input_string[middle_position:]\n",
    "    ones = input_string[:middle_position]\n",
    "\n",
    "    # Reject if the sides don't contain just 0s and 1s.\n",
    "    return set(zeros) != {'0'} or set(ones) != {'1'}"
   ]
  },
  {
   "cell_type": "code",
   "execution_count": 186,
   "id": "df83f94f",
   "metadata": {},
   "outputs": [
    {
     "name": "stdout",
     "output_type": "stream",
     "text": [
      "Accepted all test cases: True\n",
      "Rejected all test cases: True\n"
     ]
    }
   ],
   "source": [
    "accept_tests_pass = all([zero_middle_one(test) for test in acceptable_inputs])\n",
    "reject_tests_pass = not all([zero_middle_one(test) for test in rejectable_inputs])\n",
    "\n",
    "print(\"Accepted all test cases:\", accept_tests_pass)\n",
    "print(\"Rejected all test cases:\", reject_tests_pass)"
   ]
  },
  {
   "attachments": {},
   "cell_type": "markdown",
   "id": "9e975874",
   "metadata": {},
   "source": [
    "Ok so you now should have an understanding what this decision problem accepts and rejects. We are now trying to determine if this problem is in $P$."
   ]
  },
  {
   "attachments": {},
   "cell_type": "markdown",
   "id": "58d2ba9d",
   "metadata": {},
   "source": [
    "***\n",
    "P vs NP\n",
    "\n",
    "P: Polynomial time\n",
    "NP: Non-deterministic polynomial time\n",
    "\n",
    "P vs NP refers to the age old debate of whether P is equal to NP or not. [2]"
   ]
  },
  {
   "attachments": {},
   "cell_type": "markdown",
   "id": "625c33e5",
   "metadata": {},
   "source": [
    "***\n",
    "## 6. Problems in $P$"
   ]
  },
  {
   "attachments": {},
   "cell_type": "markdown",
   "id": "694a9315",
   "metadata": {},
   "source": [
    "### 6.1. Sort Validation\n",
    "\n",
    "The worst-case deterministic time sorting algorithm is O($n^2$) (bubble sort). There of course exists better algorithms such as heap sort, but we are only concerned with the worst-case scenario. Calling this algorithm once and comparing it to the input array will result in a boolean answer, **yes** or **no**. Concluding that sort validation is in $P$."
   ]
  },
  {
   "cell_type": "code",
   "execution_count": 187,
   "id": "e350cbd3",
   "metadata": {},
   "outputs": [],
   "source": [
    "def bubble_sort(arr):\n",
    "    arr = arr.copy() # Keep original array untampered.\n",
    "    # Two nested loops, O(n^2) time complexity.\n",
    "    for i in range(0, len(arr), -1):\n",
    "        for j in range(0, i):\n",
    "            if arr[j] > arr[j + 1]:\n",
    "                # Bubble up the smaller value.\n",
    "                arr[j], arr[j + 1] = arr[j + 1], arr[j]\n",
    "\n",
    "def is_sorted(arr):\n",
    "    return bubble_sort(arr) == arr # This is O(1)"
   ]
  },
  {
   "attachments": {},
   "cell_type": "markdown",
   "id": "3eb60da8",
   "metadata": {},
   "source": [
    "### 6.2. Greatest Common Divisor\n",
    "\n",
    "### 6.3. Primality\n",
    "\n",
    "### 6.4. Palindromes"
   ]
  },
  {
   "attachments": {},
   "cell_type": "markdown",
   "id": "6b010ffd",
   "metadata": {},
   "source": [
    "***\n",
    "## 7. Problems That Might Be in $P$\n",
    "There exists problems that don't yet have a proof that they are in $P$.\n",
    "But are presumed to be so.\n",
    "\n",
    "https://en.wikipedia.org/wiki/Conway%27s_Game_of_Life\n",
    "\n",
    "### 7.1. Game of Life\n",
    "John Conways Game of Life is a cellular automation simulation zero player game (requiring no user input), where cells follow deterministic rules used to determine their next state.\n",
    "\n",
    "Given an initial state, verify a state is reachable by the specified number of executions.\n",
    "\n",
    "### 7.2. Graph Isomorphism\n",
    "Current the graph isomorphism problem is known to be solvable in quasi-polynomial time, quasi meaning its not exactly polynomial.\n",
    "\n",
    "\n"
   ]
  },
  {
   "cell_type": "code",
   "execution_count": 188,
   "id": "18d25ab2",
   "metadata": {},
   "outputs": [],
   "source": [
    "### 4.3 Integer Factorization"
   ]
  },
  {
   "cell_type": "code",
   "execution_count": null,
   "id": "b59974c5",
   "metadata": {},
   "outputs": [],
   "source": []
  },
  {
   "attachments": {},
   "cell_type": "markdown",
   "id": "a639ff66",
   "metadata": {},
   "source": [
    "***\n",
    "## 8. Other Complexity Classes\n",
    "\n",
    "### 8.1. NP\n",
    "\n",
    "### 8.2. co-NP\n",
    "\n",
    "### 8.3. NP-Hard\n",
    "\n",
    "### 8.4. NP-Complete\n"
   ]
  },
  {
   "cell_type": "code",
   "execution_count": 189,
   "id": "722f710c",
   "metadata": {},
   "outputs": [],
   "source": [
    "# https://www.geeksforgeeks.org/types-of-complexity-classes-p-np-conp-np-hard-and-np-complete/"
   ]
  },
  {
   "attachments": {},
   "cell_type": "markdown",
   "id": "b9c4ae47",
   "metadata": {},
   "source": [
    "***\n",
    "## 9. Conclusion\n",
    "\n",
    "An open question is computer science is whether P ?= NP."
   ]
  },
  {
   "attachments": {},
   "cell_type": "markdown",
   "id": "0068d910",
   "metadata": {},
   "source": [
    "***\n",
    "## References\n",
    "[0] [https://en.wikipedia.org/wiki/P_(complexity)](https://en.wikipedia.org/wiki/P_(complexity))<br>\n",
    "[1] [https://www.mathsisfun.com/algebra/polynomials.html](https://www.mathsisfun.com/algebra/polynomials.html)<br>\n",
    "[2] [https://news.mit.edu/2009/explainer-pnp](https://news.mit.edu/2009/explainer-pnp)<br>\n",
    "\n",
    "https://en.wikipedia.org/wiki/P-complete\n"
   ]
  },
  {
   "attachments": {},
   "cell_type": "markdown",
   "id": "fdbcf54c",
   "metadata": {},
   "source": [
    "https://brilliant.org/wiki/complexity-classes/\n",
    "\n",
    "https://github.com/ianmcloughlin/structures-and-operations/blob/main/structures-and-operations.pdf"
   ]
  }
 ],
 "metadata": {
  "kernelspec": {
   "display_name": "Python 3",
   "language": "python",
   "name": "python3"
  },
  "language_info": {
   "codemirror_mode": {
    "name": "ipython",
    "version": 3
   },
   "file_extension": ".py",
   "mimetype": "text/x-python",
   "name": "python",
   "nbconvert_exporter": "python",
   "pygments_lexer": "ipython3",
   "version": "3.10.9"
  },
  "vscode": {
   "interpreter": {
    "hash": "4ddf6bbfb6cda5827b67d82fee18ec03a3a02e526223c762c547561fc43c0ce8"
   }
  }
 },
 "nbformat": 4,
 "nbformat_minor": 5
}
