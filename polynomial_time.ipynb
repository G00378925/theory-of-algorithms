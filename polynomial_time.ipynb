{
 "cells": [
  {
   "attachments": {},
   "cell_type": "markdown",
   "id": "5838ad78-d04f-4945-bb16-0511e998155c",
   "metadata": {},
   "source": [
    "# The Polynomial Time Complexity Class (P)\n",
    "***"
   ]
  },
  {
   "attachments": {},
   "cell_type": "markdown",
   "id": "60170712",
   "metadata": {},
   "source": [
    "Polynomial time also know as P are a class of computation problems that can be solved in polynomial time. [0]\n",
    "\n",
    "Polynomial time class contains all decision problems that can be solved in polynomial time on a deterministic Turing machine. [1]"
   ]
  },
  {
   "attachments": {},
   "cell_type": "markdown",
   "id": "0eb09be1",
   "metadata": {},
   "source": [
    "***\n",
    "## 1. Polynomials\n",
    "\n",
    "An example of a polynomial is: $3x^2 + 4x + 2$.\n",
    "\n",
    "The polymonial is usually ordered by the exponent value of each term. The term that has the highest power is the first term. In the above example, the last two terms are actually $4x^1$ and $2x^0$.\n",
    "\n",
    "The degree of a polynomial is the highest exponent of the terms. As seen in the example above it is $2$. [1]\n",
    "\n",
    "### Term\n",
    "\n",
    "The properties of a term are:\n",
    "- The constant is the number that is multiplied by the variable.\n",
    "- The variable is the letter part that is multiplied by the constant (this is usually $x$).\n",
    "- The exponent is the number is used to raise the variable to a power. [1]"
   ]
  },
  {
   "attachments": {},
   "cell_type": "markdown",
   "id": "bb06fe3e",
   "metadata": {},
   "source": [
    "***\n",
    "## 2. Computation Complexity Theory"
   ]
  },
  {
   "attachments": {},
   "cell_type": "markdown",
   "id": "0068d910",
   "metadata": {},
   "source": [
    "***\n",
    "## References\n",
    "[0] [https://en.wikipedia.org/wiki/P_(complexity)](https://en.wikipedia.org/wiki/P_(complexity))<br>\n",
    "[1] [https://www.mathsisfun.com/algebra/polynomials.html](https://www.mathsisfun.com/algebra/polynomials.html)<br>\n"
   ]
  }
 ],
 "metadata": {
  "kernelspec": {
   "display_name": "Python 3",
   "language": "python",
   "name": "python3"
  },
  "language_info": {
   "codemirror_mode": {
    "name": "ipython",
    "version": 3
   },
   "file_extension": ".py",
   "mimetype": "text/x-python",
   "name": "python",
   "nbconvert_exporter": "python",
   "pygments_lexer": "ipython3",
   "version": "3.11.1"
  },
  "vscode": {
   "interpreter": {
    "hash": "d68371ed92e56aa4e4b6b41bfd8729ce27a6f93a7cea49ee69b5fe67b74d864a"
   }
  }
 },
 "nbformat": 4,
 "nbformat_minor": 5
}
